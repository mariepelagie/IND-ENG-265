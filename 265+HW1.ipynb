{
 "cells": [
  {
   "cell_type": "markdown",
   "metadata": {},
   "source": [
    "# IEOR 265 HW1\n",
    "\n",
    "Abigail Chaver and Pelagie Elimbi\n",
    "\n",
    "April 6, 2018"
   ]
  },
  {
   "cell_type": "code",
   "execution_count": 2,
   "metadata": {
    "collapsed": true
   },
   "outputs": [],
   "source": [
    "import pandas as pd\n",
    "import numpy as np\n",
    "import matplotlib.pyplot as plt\n",
    "% matplotlib inline\n",
    "from sklearn import linear_model\n",
    "from sklearn.metrics import mean_squared_error, r2_score"
   ]
  },
  {
   "cell_type": "code",
   "execution_count": 32,
   "metadata": {
    "collapsed": true
   },
   "outputs": [],
   "source": [
    "wine = pd.read_csv(\"http://ieor.berkeley.edu/~ieor265/homeworks/winequality-red.csv\", sep=\";\")"
   ]
  },
  {
   "cell_type": "code",
   "execution_count": 375,
   "metadata": {},
   "outputs": [],
   "source": [
    "# Split data for estimating error\n",
    "from sklearn.model_selection import train_test_split\n",
    "X_train, X_test, y_train, y_test = train_test_split(\n",
    "    wine.drop(['quality'], axis=1), wine.quality, \n",
    "    test_size=0.33, random_state=401)"
   ]
  },
  {
   "cell_type": "markdown",
   "metadata": {},
   "source": [
    "## OLS"
   ]
  },
  {
   "cell_type": "code",
   "execution_count": 376,
   "metadata": {},
   "outputs": [],
   "source": [
    "regr = linear_model.LinearRegression()\n",
    "regr.fit(X_train, y_train)\n",
    "regr_pred = regr.predict(X_test)"
   ]
  },
  {
   "cell_type": "code",
   "execution_count": 377,
   "metadata": {},
   "outputs": [
    {
     "name": "stdout",
     "output_type": "stream",
     "text": [
      "OLS Mean squared error: 0.41\n",
      "OLS R-squared: 0.37\n"
     ]
    }
   ],
   "source": [
    "# Errors\n",
    "print(\"OLS Mean squared error: %.2f\"\n",
    "      % mean_squared_error(y_test, regr_pred))\n",
    "print('OLS R-squared: %.2f' % r2_score(y_test, regr_pred))"
   ]
  },
  {
   "cell_type": "markdown",
   "metadata": {},
   "source": [
    "## Ridge Regression"
   ]
  },
  {
   "cell_type": "code",
   "execution_count": 380,
   "metadata": {
    "scrolled": true
   },
   "outputs": [
    {
     "data": {
      "text/plain": [
       "<matplotlib.collections.PathCollection at 0x1a16ae4a20>"
      ]
     },
     "execution_count": 380,
     "metadata": {},
     "output_type": "execute_result"
    },
    {
     "data": {
      "image/png": "[encoded data removed]",
      "text/plain": [
       "<matplotlib.figure.Figure at 0x1a16a64240>"
      ]
     },
     "metadata": {},
     "output_type": "display_data"
    }
   ],
   "source": [
    "alphas = (0.01, 0.1, 0.2, 0.3, 0.4, 0.6, 0.8, 1.0, 3)\n",
    "rr = linear_model.RidgeCV(alphas, store_cv_values = True )\n",
    "rr.fit(X_train, y_train)\n",
    "plt.figure(figsize=(20,5))\n",
    "plt.scatter(alphas, list(pd.DataFrame(rr.cv_values_).mean()))"
   ]
  },
  {
   "cell_type": "code",
   "execution_count": 379,
   "metadata": {},
   "outputs": [
    {
     "data": {
      "text/plain": [
       "0.40000000000000002"
      ]
     },
     "execution_count": 379,
     "metadata": {},
     "output_type": "execute_result"
    }
   ],
   "source": [
    "# Optimal Alpha\n",
    "rr.alpha_"
   ]
  },
  {
   "cell_type": "code",
   "execution_count": 381,
   "metadata": {},
   "outputs": [
    {
     "name": "stdout",
     "output_type": "stream",
     "text": [
      "Ridge Regression Mean squared error: 0.41\n",
      "Ridge Regression R-squared: 0.37\n"
     ]
    }
   ],
   "source": [
    "rr_pred = rr.predict(X_test)\n",
    "print(\"Ridge Regression Mean squared error: %.2f\"\n",
    "      % mean_squared_error(y_test, rr_pred))\n",
    "print('Ridge Regression R-squared: %.2f' % r2_score(y_test, regr_pred))"
   ]
  },
  {
   "cell_type": "markdown",
   "metadata": {},
   "source": [
    "## Lasso "
   ]
  },
  {
   "cell_type": "code",
   "execution_count": 382,
   "metadata": {},
   "outputs": [
    {
     "data": {
      "text/plain": [
       "LassoCV(alphas=None, copy_X=True, cv=None, eps=0.001, fit_intercept=True,\n",
       "    max_iter=1000, n_alphas=100, n_jobs=1, normalize=False, positive=False,\n",
       "    precompute='auto', random_state=None, selection='cyclic', tol=0.0001,\n",
       "    verbose=False)"
      ]
     },
     "execution_count": 382,
     "metadata": {},
     "output_type": "execute_result"
    }
   ],
   "source": [
    "lasso = linear_model.LassoCV()\n",
    "lasso.fit(X_train, y_train)"
   ]
  },
  {
   "cell_type": "code",
   "execution_count": 383,
   "metadata": {},
   "outputs": [
    {
     "data": {
      "text/plain": [
       "<matplotlib.collections.PathCollection at 0x1a179ac128>"
      ]
     },
     "execution_count": 383,
     "metadata": {},
     "output_type": "execute_result"
    },
    {
     "data": {
      "image/png": "[encoded data removed]",
      "text/plain": [
       "<matplotlib.figure.Figure at 0x1a16b19f98>"
      ]
     },
     "metadata": {},
     "output_type": "display_data"
    }
   ],
   "source": [
    "plt.scatter(lasso.alphas_, \n",
    "            pd.DataFrame(lasso.mse_path_).apply(np.mean, axis=1))"
   ]
  },
  {
   "cell_type": "code",
   "execution_count": 384,
   "metadata": {},
   "outputs": [
    {
     "data": {
      "text/plain": [
       "0.0050322499370118404"
      ]
     },
     "execution_count": 384,
     "metadata": {},
     "output_type": "execute_result"
    }
   ],
   "source": [
    "lasso.alpha_"
   ]
  },
  {
   "cell_type": "code",
   "execution_count": 385,
   "metadata": {},
   "outputs": [
    {
     "name": "stdout",
     "output_type": "stream",
     "text": [
      "Ridge Regression Mean squared error: 0.42\n",
      "Ridge Regression R-squared: 0.35\n"
     ]
    }
   ],
   "source": [
    "l_pred = lasso.predict(X_test)\n",
    "print(\"Ridge Regression Mean squared error: %.2f\"\n",
    "      % mean_squared_error(y_test, l_pred))\n",
    "print('Ridge Regression R-squared: %.2f' % r2_score(y_test, l_pred))"
   ]
  },
  {
   "cell_type": "markdown",
   "metadata": {},
   "source": [
    "## EDE"
   ]
  },
  {
   "cell_type": "code",
   "execution_count": 386,
   "metadata": {
    "collapsed": true
   },
   "outputs": [],
   "source": [
    "# Split training data to choose tuning parameters by hand\n",
    "eX_train, eX_test, ey_train, ey_test = train_test_split(\n",
    "    X_train, y_train, \n",
    "    test_size=0.33, random_state=301)"
   ]
  },
  {
   "cell_type": "code",
   "execution_count": 387,
   "metadata": {},
   "outputs": [],
   "source": [
    "u, s, vh = np.linalg.svd(eX_train)"
   ]
  },
  {
   "cell_type": "code",
   "execution_count": 388,
   "metadata": {},
   "outputs": [],
   "source": [
    "def get_prod(d):\n",
    "    v2 = vh[:, d+1: 11:1]\n",
    "    prod = np.matmul(v2, np.transpose(v2))\n",
    "    return(prod)"
   ]
  },
  {
   "cell_type": "code",
   "execution_count": 169,
   "metadata": {},
   "outputs": [],
   "source": [
    "from scipy.optimize import minimize"
   ]
  },
  {
   "cell_type": "code",
   "execution_count": 389,
   "metadata": {
    "collapsed": true
   },
   "outputs": [],
   "source": [
    "def score_ede(mu, d):\n",
    "    prod = get_prod(d)\n",
    "    \n",
    "    def ede(bvec):\n",
    "        # Compute objective function\n",
    "        colOne = np.array(np.ones(len(eX_train) + 11))\n",
    "        colOne[-11:] = 0\n",
    "        colX = np.concatenate((np.array(eX_train), mu*prod), axis=0)\n",
    "        data = np.concatenate((np.transpose(np.matrix(colOne)), colX), \n",
    "                              axis=1)\n",
    "        Y0 = np.matrix(np.concatenate((np.array(ey_train),np.zeros(11)), \n",
    "                                      axis=0))\n",
    "        val = Y0 - np.matmul(data, bvec)\n",
    "        L2 = np.linalg.norm(val)\n",
    "        return L2\n",
    "    # initialize optimizer with all zero coefficients\n",
    "    beta = np.zeros(12)\n",
    "    z = minimize(ede, beta)\n",
    "    # Get predicted values\n",
    "    bvec_A = z.x[1:]\n",
    "    b0 = z.x[0]\n",
    "    ede_pred = eX_test.apply(lambda a : b0 + np.matmul(a, bvec_A), axis=1)\n",
    "    return(mean_squared_error(ey_test, ede_pred))\n",
    "    "
   ]
  },
  {
   "cell_type": "code",
   "execution_count": 403,
   "metadata": {},
   "outputs": [
    {
     "data": {
      "text/html": [
       "<div>\n",
       "<style>\n",
       "    .dataframe thead tr:only-child th {\n",
       "        text-align: right;\n",
       "    }\n",
       "\n",
       "    .dataframe thead th {\n",
       "        text-align: left;\n",
       "    }\n",
       "\n",
       "    .dataframe tbody tr th {\n",
       "        vertical-align: top;\n",
       "    }\n",
       "</style>\n",
       "<table border=\"1\" class=\"dataframe\">\n",
       "  <thead>\n",
       "    <tr style=\"text-align: right;\">\n",
       "      <th></th>\n",
       "      <th>0</th>\n",
       "      <th>1</th>\n",
       "      <th>2</th>\n",
       "      <th>3</th>\n",
       "      <th>4</th>\n",
       "      <th>5</th>\n",
       "      <th>6</th>\n",
       "      <th>7</th>\n",
       "      <th>8</th>\n",
       "    </tr>\n",
       "  </thead>\n",
       "  <tbody>\n",
       "    <tr>\n",
       "      <th>0.01</th>\n",
       "      <td>0.447169</td>\n",
       "      <td>0.447368</td>\n",
       "      <td>0.447454</td>\n",
       "      <td>0.447455</td>\n",
       "      <td>0.447456</td>\n",
       "      <td>0.447457</td>\n",
       "      <td>0.447456</td>\n",
       "      <td>0.44746</td>\n",
       "      <td>0.447541</td>\n",
       "    </tr>\n",
       "    <tr>\n",
       "      <th>0.10</th>\n",
       "      <td>0.44422</td>\n",
       "      <td>0.444286</td>\n",
       "      <td>0.444292</td>\n",
       "      <td>0.444275</td>\n",
       "      <td>0.44427</td>\n",
       "      <td>0.444291</td>\n",
       "      <td>0.444294</td>\n",
       "      <td>0.4443</td>\n",
       "      <td>0.444332</td>\n",
       "    </tr>\n",
       "    <tr>\n",
       "      <th>0.50</th>\n",
       "      <td>0.443925</td>\n",
       "      <td>0.443989</td>\n",
       "      <td>0.44403</td>\n",
       "      <td>0.443543</td>\n",
       "      <td>0.443484</td>\n",
       "      <td>0.443957</td>\n",
       "      <td>0.444047</td>\n",
       "      <td>0.444061</td>\n",
       "      <td>0.44406</td>\n",
       "    </tr>\n",
       "    <tr>\n",
       "      <th>1.00</th>\n",
       "      <td>0.443588</td>\n",
       "      <td>0.443751</td>\n",
       "      <td>0.443999</td>\n",
       "      <td>0.442202</td>\n",
       "      <td>0.441984</td>\n",
       "      <td>0.443503</td>\n",
       "      <td>0.443854</td>\n",
       "      <td>0.443896</td>\n",
       "      <td>0.443887</td>\n",
       "    </tr>\n",
       "    <tr>\n",
       "      <th>2.00</th>\n",
       "      <td>0.442026</td>\n",
       "      <td>0.442406</td>\n",
       "      <td>0.443505</td>\n",
       "      <td>0.439858</td>\n",
       "      <td>0.438988</td>\n",
       "      <td>0.441951</td>\n",
       "      <td>0.443223</td>\n",
       "      <td>0.443363</td>\n",
       "      <td>0.443325</td>\n",
       "    </tr>\n",
       "    <tr>\n",
       "      <th>3.00</th>\n",
       "      <td>0.441025</td>\n",
       "      <td>0.441449</td>\n",
       "      <td>0.443686</td>\n",
       "      <td>0.439359</td>\n",
       "      <td>0.437306</td>\n",
       "      <td>0.44003</td>\n",
       "      <td>0.44251</td>\n",
       "      <td>0.442749</td>\n",
       "      <td>0.442669</td>\n",
       "    </tr>\n",
       "    <tr>\n",
       "      <th>4.00</th>\n",
       "      <td>0.440976</td>\n",
       "      <td>0.441316</td>\n",
       "      <td>0.444616</td>\n",
       "      <td>0.440121</td>\n",
       "      <td>0.436534</td>\n",
       "      <td>0.438288</td>\n",
       "      <td>0.44201</td>\n",
       "      <td>0.442245</td>\n",
       "      <td>0.442127</td>\n",
       "    </tr>\n",
       "    <tr>\n",
       "      <th>5.00</th>\n",
       "      <td>0.441584</td>\n",
       "      <td>0.441806</td>\n",
       "      <td>0.445886</td>\n",
       "      <td>0.441458</td>\n",
       "      <td>0.436362</td>\n",
       "      <td>0.437073</td>\n",
       "      <td>0.441927</td>\n",
       "      <td>0.441933</td>\n",
       "      <td>0.441797</td>\n",
       "    </tr>\n",
       "    <tr>\n",
       "      <th>6.00</th>\n",
       "      <td>0.442634</td>\n",
       "      <td>0.442751</td>\n",
       "      <td>0.447272</td>\n",
       "      <td>0.442993</td>\n",
       "      <td>0.43673</td>\n",
       "      <td>0.436545</td>\n",
       "      <td>0.442365</td>\n",
       "      <td>0.441806</td>\n",
       "      <td>0.441675</td>\n",
       "    </tr>\n",
       "    <tr>\n",
       "      <th>8.00</th>\n",
       "      <td>0.445456</td>\n",
       "      <td>0.445444</td>\n",
       "      <td>0.450021</td>\n",
       "      <td>0.446029</td>\n",
       "      <td>0.43903</td>\n",
       "      <td>0.437627</td>\n",
       "      <td>0.444883</td>\n",
       "      <td>0.441954</td>\n",
       "      <td>0.441854</td>\n",
       "    </tr>\n",
       "  </tbody>\n",
       "</table>\n",
       "</div>"
      ],
      "text/plain": [
       "             0         1         2         3         4         5         6  \\\n",
       "0.01  0.447169  0.447368  0.447454  0.447455  0.447456  0.447457  0.447456   \n",
       "0.10   0.44422  0.444286  0.444292  0.444275   0.44427  0.444291  0.444294   \n",
       "0.50  0.443925  0.443989   0.44403  0.443543  0.443484  0.443957  0.444047   \n",
       "1.00  0.443588  0.443751  0.443999  0.442202  0.441984  0.443503  0.443854   \n",
       "2.00  0.442026  0.442406  0.443505  0.439858  0.438988  0.441951  0.443223   \n",
       "3.00  0.441025  0.441449  0.443686  0.439359  0.437306   0.44003   0.44251   \n",
       "4.00  0.440976  0.441316  0.444616  0.440121  0.436534  0.438288   0.44201   \n",
       "5.00  0.441584  0.441806  0.445886  0.441458  0.436362  0.437073  0.441927   \n",
       "6.00  0.442634  0.442751  0.447272  0.442993   0.43673  0.436545  0.442365   \n",
       "8.00  0.445456  0.445444  0.450021  0.446029   0.43903  0.437627  0.444883   \n",
       "\n",
       "             7         8  \n",
       "0.01   0.44746  0.447541  \n",
       "0.10    0.4443  0.444332  \n",
       "0.50  0.444061   0.44406  \n",
       "1.00  0.443896  0.443887  \n",
       "2.00  0.443363  0.443325  \n",
       "3.00  0.442749  0.442669  \n",
       "4.00  0.442245  0.442127  \n",
       "5.00  0.441933  0.441797  \n",
       "6.00  0.441806  0.441675  \n",
       "8.00  0.441954  0.441854  "
      ]
     },
     "execution_count": 403,
     "metadata": {},
     "output_type": "execute_result"
    }
   ],
   "source": [
    "# Grid search for best combination\n",
    "mus=[0.01, 0.1, 0.5, 1, 2, 3, 4, 5, 6, 8]\n",
    "ede_mse=pd.DataFrame(index=mus, columns=range(9))\n",
    "for i in range(9):\n",
    "    for j in range(len(mus)):\n",
    "        mu = mus[j]\n",
    "        ede_mse.iloc[j, i] =score_ede(mu,i)\n",
    "ede_mse"
   ]
  },
  {
   "cell_type": "code",
   "execution_count": 404,
   "metadata": {},
   "outputs": [
    {
     "data": {
      "text/plain": [
       "<matplotlib.collections.PathCollection at 0x1a180a7278>"
      ]
     },
     "execution_count": 404,
     "metadata": {},
     "output_type": "execute_result"
    },
    {
     "data": {
      "image/png": "[encoded data removed]",
      "text/plain": [
       "<matplotlib.figure.Figure at 0x1a180687b8>"
      ]
     },
     "metadata": {},
     "output_type": "display_data"
    }
   ],
   "source": [
    "# Compare values of d\n",
    "plt.scatter(range(9), ede_mse.mean())"
   ]
  },
  {
   "cell_type": "code",
   "execution_count": 405,
   "metadata": {},
   "outputs": [
    {
     "data": {
      "text/plain": [
       "<matplotlib.collections.PathCollection at 0x1a157ff080>"
      ]
     },
     "execution_count": 405,
     "metadata": {},
     "output_type": "execute_result"
    },
    {
     "data": {
      "image/png": "[encoded data removed]",
      "text/plain": [
       "<matplotlib.figure.Figure at 0x1a1808c2b0>"
      ]
     },
     "metadata": {},
     "output_type": "display_data"
    }
   ],
   "source": [
    "# Compare values of mu\n",
    "plt.scatter(mus, ede_mse.mean(axis=1))"
   ]
  },
  {
   "cell_type": "code",
   "execution_count": 414,
   "metadata": {},
   "outputs": [],
   "source": [
    "# Let mu = 4 and d = 4\n",
    "# Compute beta vector with full test set\n",
    "\n",
    "def final_ede(bvec):\n",
    "    d = 4\n",
    "    mu = 4\n",
    "    prod = get_prod(d)\n",
    "    colOne = np.array(np.ones(len(X_train) + 11))\n",
    "    colOne[-11:] = 0\n",
    "    colX = np.concatenate((np.array(X_train), mu*prod), axis=0)\n",
    "    data = np.concatenate((np.transpose(np.matrix(colOne)), colX), axis=1)\n",
    "    Y0 = np.matrix(np.concatenate((np.array(y_train),np.zeros(11)), axis=0))\n",
    "    val = Y0 - np.matmul(data, bvec)\n",
    "    L2 = np.linalg.norm(val)\n",
    "    return L2\n",
    "    \n",
    "beta = np.zeros(12)\n",
    "z = minimize(final_ede, beta)\n",
    "bvec_F = z.x[1:]\n",
    "b0 = z.x[0]\n",
    "ede_predF = X_test.apply(lambda a : b0 + np.matmul(a, bvec_F), axis=1)"
   ]
  },
  {
   "cell_type": "code",
   "execution_count": 415,
   "metadata": {},
   "outputs": [
    {
     "name": "stdout",
     "output_type": "stream",
     "text": [
      "Ridge Regression Mean squared error: 0.42\n",
      "Ridge Regression R-squared: 0.36\n"
     ]
    }
   ],
   "source": [
    "print(\"Ridge Regression Mean squared error: %.2f\"\n",
    "      % mean_squared_error(y_test, ede_predF))\n",
    "print('Ridge Regression R-squared: %.2f' % r2_score(y_test, ede_predF))"
   ]
  },
  {
   "cell_type": "markdown",
   "metadata": {},
   "source": [
    "## Summary"
   ]
  },
  {
   "cell_type": "code",
   "execution_count": 416,
   "metadata": {},
   "outputs": [
    {
     "data": {
      "text/html": [
       "<div>\n",
       "<style>\n",
       "    .dataframe thead tr:only-child th {\n",
       "        text-align: right;\n",
       "    }\n",
       "\n",
       "    .dataframe thead th {\n",
       "        text-align: left;\n",
       "    }\n",
       "\n",
       "    .dataframe tbody tr th {\n",
       "        vertical-align: top;\n",
       "    }\n",
       "</style>\n",
       "<table border=\"1\" class=\"dataframe\">\n",
       "  <thead>\n",
       "    <tr style=\"text-align: right;\">\n",
       "      <th></th>\n",
       "      <th>EDE Coefficients</th>\n",
       "      <th>Lasso Coefficients</th>\n",
       "      <th>OLS Coefficients</th>\n",
       "      <th>Ridge Coefficients</th>\n",
       "    </tr>\n",
       "  </thead>\n",
       "  <tbody>\n",
       "    <tr>\n",
       "      <th>fixed acidity</th>\n",
       "      <td>-0.010281</td>\n",
       "      <td>0.020587</td>\n",
       "      <td>0.003466</td>\n",
       "      <td>0.008702</td>\n",
       "    </tr>\n",
       "    <tr>\n",
       "      <th>volatile acidity</th>\n",
       "      <td>-0.633857</td>\n",
       "      <td>-0.869663</td>\n",
       "      <td>-1.014967</td>\n",
       "      <td>-1.019452</td>\n",
       "    </tr>\n",
       "    <tr>\n",
       "      <th>citric acid</th>\n",
       "      <td>0.093790</td>\n",
       "      <td>-0.000000</td>\n",
       "      <td>-0.245508</td>\n",
       "      <td>-0.252408</td>\n",
       "    </tr>\n",
       "    <tr>\n",
       "      <th>residual sugar</th>\n",
       "      <td>0.004202</td>\n",
       "      <td>0.000000</td>\n",
       "      <td>0.006665</td>\n",
       "      <td>0.006826</td>\n",
       "    </tr>\n",
       "    <tr>\n",
       "      <th>chlorides</th>\n",
       "      <td>-2.156749</td>\n",
       "      <td>-0.000000</td>\n",
       "      <td>-1.692493</td>\n",
       "      <td>-1.342199</td>\n",
       "    </tr>\n",
       "    <tr>\n",
       "      <th>free sulfur dioxide</th>\n",
       "      <td>0.006457</td>\n",
       "      <td>0.005218</td>\n",
       "      <td>0.005014</td>\n",
       "      <td>0.004960</td>\n",
       "    </tr>\n",
       "    <tr>\n",
       "      <th>total sulfur dioxide</th>\n",
       "      <td>-0.004457</td>\n",
       "      <td>-0.003657</td>\n",
       "      <td>-0.003823</td>\n",
       "      <td>-0.003753</td>\n",
       "    </tr>\n",
       "    <tr>\n",
       "      <th>density</th>\n",
       "      <td>-0.083187</td>\n",
       "      <td>-0.000000</td>\n",
       "      <td>2.854123</td>\n",
       "      <td>0.000180</td>\n",
       "    </tr>\n",
       "    <tr>\n",
       "      <th>pH</th>\n",
       "      <td>-0.540391</td>\n",
       "      <td>-0.000000</td>\n",
       "      <td>-0.502845</td>\n",
       "      <td>-0.451275</td>\n",
       "    </tr>\n",
       "    <tr>\n",
       "      <th>sulphates</th>\n",
       "      <td>0.857768</td>\n",
       "      <td>0.590575</td>\n",
       "      <td>0.882159</td>\n",
       "      <td>0.846102</td>\n",
       "    </tr>\n",
       "    <tr>\n",
       "      <th>alcohol</th>\n",
       "      <td>0.296085</td>\n",
       "      <td>0.307615</td>\n",
       "      <td>0.307697</td>\n",
       "      <td>0.308218</td>\n",
       "    </tr>\n",
       "    <tr>\n",
       "      <th>Intercept</th>\n",
       "      <td>4.537215</td>\n",
       "      <td>2.421061</td>\n",
       "      <td>1.475082</td>\n",
       "      <td>4.094926</td>\n",
       "    </tr>\n",
       "  </tbody>\n",
       "</table>\n",
       "</div>"
      ],
      "text/plain": [
       "                      EDE Coefficients  Lasso Coefficients  OLS Coefficients  \\\n",
       "fixed acidity                -0.010281            0.020587          0.003466   \n",
       "volatile acidity             -0.633857           -0.869663         -1.014967   \n",
       "citric acid                   0.093790           -0.000000         -0.245508   \n",
       "residual sugar                0.004202            0.000000          0.006665   \n",
       "chlorides                    -2.156749           -0.000000         -1.692493   \n",
       "free sulfur dioxide           0.006457            0.005218          0.005014   \n",
       "total sulfur dioxide         -0.004457           -0.003657         -0.003823   \n",
       "density                      -0.083187           -0.000000          2.854123   \n",
       "pH                           -0.540391           -0.000000         -0.502845   \n",
       "sulphates                     0.857768            0.590575          0.882159   \n",
       "alcohol                       0.296085            0.307615          0.307697   \n",
       "Intercept                     4.537215            2.421061          1.475082   \n",
       "\n",
       "                      Ridge Coefficients  \n",
       "fixed acidity                   0.008702  \n",
       "volatile acidity               -1.019452  \n",
       "citric acid                    -0.252408  \n",
       "residual sugar                  0.006826  \n",
       "chlorides                      -1.342199  \n",
       "free sulfur dioxide             0.004960  \n",
       "total sulfur dioxide           -0.003753  \n",
       "density                         0.000180  \n",
       "pH                             -0.451275  \n",
       "sulphates                       0.846102  \n",
       "alcohol                         0.308218  \n",
       "Intercept                       4.094926  "
      ]
     },
     "execution_count": 416,
     "metadata": {},
     "output_type": "execute_result"
    }
   ],
   "source": [
    "Coef_Index=pd.Index( X_train.columns.insert(item=\"Intercept\", loc= 11))\n",
    "Coef= pd.DataFrame( {'OLS Coefficients': regr.coef_,\n",
    "                'Ridge Coefficients': rr.coef_,\n",
    "              'Lasso Coefficients':lasso.coef_,\n",
    "              'EDE Coefficients': bvec_F})\n",
    "\n",
    "Coef= Coef.append({'OLS Coefficients': regr.intercept_,\n",
    "                'Ridge Coefficients': rr.intercept_,\n",
    "              'Lasso Coefficients':lasso.intercept_,\n",
    "              'EDE Coefficients': b0}, ignore_index=True)\n",
    "Coef.index = Coef_Index\n",
    "Coef"
   ]
  },
  {
   "cell_type": "markdown",
   "metadata": {},
   "source": [
    "#### Error Comparison\n",
    "Similar performance on all models."
   ]
  },
  {
   "cell_type": "code",
   "execution_count": 418,
   "metadata": {},
   "outputs": [
    {
     "data": {
      "text/plain": [
       "EDE Error      0.415389\n",
       "Lasso Error    0.423734\n",
       "OLS Error      0.410529\n",
       "Ridge Error    0.411378\n",
       "dtype: float64"
      ]
     },
     "execution_count": 418,
     "metadata": {},
     "output_type": "execute_result"
    }
   ],
   "source": [
    "pd.Series({\"OLS Error\": mean_squared_error(y_test, regr_pred),\n",
    "                   \"Ridge Error\": mean_squared_error(y_test, rr_pred),\n",
    "                \"Lasso Error\": mean_squared_error(y_test, l_pred),\n",
    "                \"EDE Error\": mean_squared_error(y_test, ede_predF)})"
   ]
  }
 ],
 "metadata": {
  "kernelspec": {
   "display_name": "Python 3",
   "language": "python",
   "name": "python3"
  },
  "language_info": {
   "codemirror_mode": {
    "name": "ipython",
    "version": 3
   },
   "file_extension": ".py",
   "mimetype": "text/x-python",
   "name": "python",
   "nbconvert_exporter": "python",
   "pygments_lexer": "ipython3",
   "version": "3.7.1"
  }
 },
 "nbformat": 4,
 "nbformat_minor": 2
}
